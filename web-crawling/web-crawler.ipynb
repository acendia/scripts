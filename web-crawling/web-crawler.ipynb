{
 "cells": [
  {
   "cell_type": "code",
   "execution_count": 1,
   "metadata": {},
   "outputs": [],
   "source": [
    "from bs4 import BeautifulSoup\n",
    "import requests\n",
    "import re\n",
    "import json\n",
    "import os\n",
    "import shutil\n",
    "import zipfile\n",
    "import scrapy\n",
    "from scrapy.crawler import CrawlerProcess\n",
    "import logging"
   ]
  },
  {
   "cell_type": "code",
   "execution_count": 8,
   "metadata": {},
   "outputs": [],
   "source": [
    "\n",
    "\n",
    "# Disable log messages\n",
    "logging.getLogger('scrapy').propagate = False\n",
    "logging.getLogger('scrapy').setLevel(logging.WARNING)\n",
    "\n",
    "\n",
    "class QuoteSpider(scrapy.Spider):\n",
    "    name = 'crawler'\n",
    "    start_urls = ['https://myxalandri.gr']\n",
    "    processed_pages = 0  # A counter to keep track of processed pages\n",
    "\n",
    "    def parse(self, response):\n",
    "        urls = []  # Create an empty list to store URLs\n",
    "        for r in response.css('a'):\n",
    "            url = r.css('::attr(href)').get()\n",
    "            if url:\n",
    "                urls.append(response.urljoin(url))  # Append the full URL to the list\n",
    "\n",
    "        # Print all URLs from the first page\n",
    "        for url in urls:\n",
    "            print(url)\n",
    "\n",
    "        self.processed_pages += 1\n",
    "        if self.processed_pages == 1:\n",
    "            raise scrapy.exceptions.CloseSpider(reason=\"Finished processing the first page.\")\n",
    "\n",
    "# Running the spider\n",
    "process = CrawlerProcess()\n",
    "process.crawl(QuoteSpider)\n",
    "process.start()\n",
    "\n"
   ]
  },
  {
   "cell_type": "code",
   "execution_count": 9,
   "metadata": {},
   "outputs": [
    {
     "ename": "NameError",
     "evalue": "name 'respose' is not defined",
     "output_type": "error",
     "traceback": [
      "\u001b[0;31m---------------------------------------------------------------------------\u001b[0m",
      "\u001b[0;31mNameError\u001b[0m                                 Traceback (most recent call last)",
      "Cell \u001b[0;32mIn[9], line 1\u001b[0m\n\u001b[0;32m----> 1\u001b[0m QuoteSpider\u001b[39m.\u001b[39mparse(respose)\n",
      "\u001b[0;31mNameError\u001b[0m: name 'respose' is not defined"
     ]
    }
   ],
   "source": []
  },
  {
   "cell_type": "code",
   "execution_count": null,
   "metadata": {},
   "outputs": [],
   "source": []
  }
 ],
 "metadata": {
  "kernelspec": {
   "display_name": "internship",
   "language": "python",
   "name": "python3"
  },
  "language_info": {
   "codemirror_mode": {
    "name": "ipython",
    "version": 3
   },
   "file_extension": ".py",
   "mimetype": "text/x-python",
   "name": "python",
   "nbconvert_exporter": "python",
   "pygments_lexer": "ipython3",
   "version": "3.11.4"
  },
  "orig_nbformat": 4
 },
 "nbformat": 4,
 "nbformat_minor": 2
}
